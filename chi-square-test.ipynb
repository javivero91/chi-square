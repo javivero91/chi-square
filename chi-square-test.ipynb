{
 "cells": [
  {
   "cell_type": "markdown",
   "id": "4e247793",
   "metadata": {},
   "source": [
    "# <center>Chi-Square Test for Homogeneity (A/B Test)</center>"
   ]
  },
  {
   "cell_type": "markdown",
   "id": "9d6e0eda",
   "metadata": {},
   "source": [
    "## 1. Introduction\n",
    "\n",
    "The **chi-square test for homogeneity**, sometimes referred to as an A/B test, is a way of determining whether two or more sub-groups of a population share the same distribution of a single categorical variable. For example, do people of different races have the same proportion of smokers to non-smokers? In contrast to the two-proportion z-test, used when the response variable has only two categories as outcomes and we are comparing two groups, the homogeneity test is used if the response variable has several outcome categories, and we wish to compare two or more groups."
   ]
  },
  {
   "cell_type": "markdown",
   "id": "e035ea66",
   "metadata": {},
   "source": [
    "### 1.1. Outline of the test methodology\n",
    "\n",
    "To perform such a test, we will measure a categorical variable in different groups so we will end up with an $m\\times n$ contingency table, i.e. a table with $m$ rows and $n$ columns. This can be thought of as an $m\\times n$ matrix or as $2$-dimensional Python array of shape $(m,n)$.\n",
    "\n",
    "A homogeneity test is after all an instance of hypothesis testing, so we need to state a **null hypothesis** and an **alternative hypothesis**. Before we start we also need to set a significance level $\\alpha$. Statistical significance measures how likely it would be to observe what was observed, assuming the null hypothesis is true, so based on our chosen significance level and the value of the test statistic we can decide if we have enough evidence to reject the null hypothesis.\n",
    "\n",
    "The test statistic is the **chi-square** which can be calculated as follows:\n",
    "\n",
    "$$\\chi^2_k = \\sum_{i,j}\\dfrac {(O_{i,j} - E_{i,j})^2} {E_{i,j}},$$\n",
    "\n",
    "where $k=(\\text{number of rows}-1)\\times (\\text{number of columns} - 1)$ represents the degrees of freedom, $O_{i,j}$ the observed value in row $i$, column $j$ and $E_{i,j}$ the expected value of row $i$, column $j$.\n",
    "\n",
    "To calculate the expected value we use the following formula:\n",
    "\n",
    "$$E_{i,j} = \\dfrac{(\\text{sum of row}\\ i)\\times (\\text{sum of column}\\ j)} {\\text{sum of all entries}}.$$"
   ]
  },
  {
   "cell_type": "markdown",
   "id": "1cfdd19a",
   "metadata": {},
   "source": [
    "In the next image we can see the critical values for $\\chi^2$ given some frequently used significance levels and the degrees of freedom.\n",
    "\n",
    "<img src=\"chisquare_table-1.jpg\" alt=\"Chi-square table\" width=\"500\"/>\n",
    "\n",
    "Once we have chosen our significance level $\\alpha$, we calculate $\\chi^2$ using the contingency table. If our value of $\\chi^2$ is larger than the corresponding critial value in the above table, we can say there is enough evidence to reject the null hypothesis in favor of the alternative."
   ]
  },
  {
   "cell_type": "markdown",
   "id": "9152e8a7",
   "metadata": {
    "vscode": {
     "languageId": "plaintext"
    }
   },
   "source": [
    "## 2. Understanding the problem\n",
    "\n",
    "A food delivery start-up decides to advertise its service by placing ads on web pages. They wonder whether the percentage of viewers who click on the ad changes depending on how often the viewers were shown the ad. They randomly select 100 viewers from among those who were shown the add once, 135 from among those who were shown the add twice, and 150 from among those who were shown the ad three times.\n",
    "We want to determine if the chances that the user clicks on the ad increase with the number of ads shown. In order to do so we will use the chi-square test for homogeneity. This test is for evaluating whether a categorical variable measured on several samples has the same distribution in each of the samples. Our case concerns the distribution of the categorical variable \"clicked on ad\" in each of the three samples."
   ]
  },
  {
   "cell_type": "markdown",
   "id": "91a438be",
   "metadata": {},
   "source": [
    "The data can be summarized in the following contingency table\n",
    "| Observed    | Add shown 1 time | Add shown 2 times | Add shown 3 times\n",
    "| ----------- | -----------      |    -----------    |   ----------- \n",
    "| Click       | 20               |  32               | 48\n",
    "| No click    | 80               |  103              | 102"
   ]
  },
  {
   "cell_type": "markdown",
   "id": "e5104fcd",
   "metadata": {},
   "source": [
    "We can add to our table the percentage of clicks in each group\n",
    "|             | Add shown 1 time | Add shown 2 times | Add shown 3 times \n",
    "| ----------- | -----------      |    -----------    |   -----------     \n",
    "| Click       | 20               |  32               | 48                \n",
    "| No click    | 80               |  103              | 102               \n",
    "| Click rate  | 20%              | 23.7%             | 32%"
   ]
  },
  {
   "cell_type": "markdown",
   "id": "01ad484d",
   "metadata": {},
   "source": [
    "Now we can set the test hypotheses as follows:\n",
    "\n",
    "**Null hypothesis:** the chances that the user clicks on the ad are the same for all three groups.\n",
    "\n",
    "**Alternative hypothesis:** the chances that the user clicks on the ad increase with the number of ads shown.\n",
    "\n",
    "As we can see in the contingency table, there has been an increase, however how can we make sure it was not due to chance or other factors rather than the number of times the add was shown? For that we use the **chi-square test for homogeneity**: it allows the examination of the test results through the following question: “Assuming the null hypothesis is true, how often, or how likely it would be to observe results that are as extreme or more extreme than the ones observed?” “Extreme” here just means “differing by a given amount”. This is precisely what an observed statistical significance measures.\n",
    "\n",
    "Before we carry out any computation, to prevent cheating with data, we set our significance level to be $\\alpha = 0.05 (5 \\%)$."
   ]
  },
  {
   "cell_type": "markdown",
   "id": "67062ead",
   "metadata": {},
   "source": [
    "## 3. Calculating the test statistic"
   ]
  },
  {
   "cell_type": "markdown",
   "id": "34028f1d",
   "metadata": {},
   "source": [
    "The test statistic we are going to use is the chi-square ($\\chi^2$) and we will use the given formula to calculate it. We start by obtaining the table of expected values as follows."
   ]
  },
  {
   "cell_type": "code",
   "execution_count": 20,
   "id": "ecd0071c",
   "metadata": {},
   "outputs": [
    {
     "name": "stdout",
     "output_type": "stream",
     "text": [
      "25.974025974025974 35.064935064935064 38.96103896103896 74.02597402597402 99.93506493506493 111.03896103896103\n"
     ]
    }
   ],
   "source": [
    "total = 100+135+150 # Sum of all elements in the contingency table\n",
    "total_r1 = 20+32+48 # Sum of first row\n",
    "total_r2 = 80+103+102 # Sum of second row\n",
    "total_c1 = 100 # Sum of first column\n",
    "total_c2 = 135 # Sum of second column\n",
    "total_c3 = 150 # Sum of third column\n",
    "\n",
    "E_11 = (total_r1 * total_c1)/total\n",
    "E_12 = (total_r1 * total_c2)/total\n",
    "E_13 = (total_r1 * total_c3)/total\n",
    "E_21 = (total_r2 * total_c1)/total\n",
    "E_22 = (total_r2 * total_c2)/total\n",
    "E_23 = (total_r2 * total_c3)/total\n",
    "\n",
    "print(E_11, E_12, E_13, E_21, E_22, E_23) # The entries of the expected value table"
   ]
  },
  {
   "cell_type": "markdown",
   "id": "8379395c",
   "metadata": {},
   "source": [
    "We can now produce a new table with the expected values.\n",
    "| Expected    | Add shown 1 time | Add shown 2 times | Add shown 3 times\n",
    "| ----------- | -----------      |    -----------    |   ----------- \n",
    "| Click       |   25.97             |   35.06            | 38.96\n",
    "| No click    |       74.03         |      99.94         | 111.04"
   ]
  },
  {
   "cell_type": "markdown",
   "id": "1371c282",
   "metadata": {},
   "source": [
    "Applying the formula for $\\chi^2$ we get the following."
   ]
  },
  {
   "cell_type": "code",
   "execution_count": 21,
   "id": "0adf1cf3",
   "metadata": {},
   "outputs": [
    {
     "name": "stdout",
     "output_type": "stream",
     "text": [
      "The value for chi-square is: 5.0508797920727755\n"
     ]
    }
   ],
   "source": [
    "chi_square = sum([ (20-E_11)**2/E_11, (32-E_12)**2/E_12, (48-E_13)**2/E_13, (80-E_21)**2/E_21, (103-E_22)**2/E_22, (102-E_23)**2/E_23])\n",
    "print('The value for chi-square is:', chi_square)"
   ]
  },
  {
   "cell_type": "markdown",
   "id": "8a199ef4",
   "metadata": {},
   "source": [
    "After looking at the table of critical values for the test statistic (with $\\alpha=0.05$ and $2$ degrees of freedom) we get $5.99$. Since our value for chi-square is $5.05$ **we cannot conclude there is enough evidence to reject the null hypothesis**. This means that, with a significance level of $5\\,$%, there is not enough evidence to assume the chances that the user clicks on the ad increases with the number of ads shown."
   ]
  },
  {
   "cell_type": "markdown",
   "id": "55bfc28c",
   "metadata": {},
   "source": [
    "### 3.1. A more general approach"
   ]
  },
  {
   "cell_type": "markdown",
   "id": "3060f1fe",
   "metadata": {},
   "source": [
    "Notice that if our contingency table was bigger or if we needed to run the test several times with different tables, the previous code does not offer a lot of flexibility to scale our test.\n",
    "\n",
    "Let us repeat the calculation of chi-square using python libraries numpy and scipy. These specialised libraries allow for a faster and more scalable calculation."
   ]
  },
  {
   "cell_type": "code",
   "execution_count": 22,
   "id": "70d635a0",
   "metadata": {},
   "outputs": [],
   "source": [
    "import scipy\n",
    "import numpy as np\n",
    "from scipy.stats import chi2_contingency"
   ]
  },
  {
   "cell_type": "code",
   "execution_count": 23,
   "id": "d7f46dd2",
   "metadata": {},
   "outputs": [
    {
     "name": "stdout",
     "output_type": "stream",
     "text": [
      "The chi-square value is: 5.0508797920727755\n"
     ]
    }
   ],
   "source": [
    "f_obs = np.array([[20, 32, 48] , [80, 103, 102]]) # Contingency table as a 2-dimensional array of shape (2,3)\n",
    "chi_sq = chi2_contingency(f_obs).statistic # Apply the function chi2_contingency and gets the value of the statistic (chi-square)\n",
    "print('The chi-square value is:',chi_sq)"
   ]
  },
  {
   "cell_type": "markdown",
   "id": "a2d61b40",
   "metadata": {},
   "source": [
    "As can be seen, the result is the same, but the code now took only a couple of lines. It would be quite easy to run it several times and with potentially big contingency tables. "
   ]
  }
 ],
 "metadata": {
  "kernelspec": {
   "display_name": "base",
   "language": "python",
   "name": "python3"
  },
  "language_info": {
   "codemirror_mode": {
    "name": "ipython",
    "version": 3
   },
   "file_extension": ".py",
   "mimetype": "text/x-python",
   "name": "python",
   "nbconvert_exporter": "python",
   "pygments_lexer": "ipython3",
   "version": "3.10.9"
  }
 },
 "nbformat": 4,
 "nbformat_minor": 5
}
